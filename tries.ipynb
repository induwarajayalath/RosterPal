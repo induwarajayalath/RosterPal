{
 "cells": [
  {
   "cell_type": "code",
   "execution_count": 19,
   "metadata": {},
   "outputs": [],
   "source": [
    "import datetime\n",
    "import pandas as pd\n",
    "\n",
    "df = pd.read_csv('/Users/induwarajayalath/Desktop/GenixLabs/Projects/RosterPal/US-SO-Roster.csv')\n",
    "\n",
    "def extract_names(search_param):\n",
    "    matching_names = df['Name'][df['Name'].str.contains(search_param, case=False, na=False)].tolist()\n",
    "    if not matching_names:\n",
    "        return []\n",
    "    else:\n",
    "        return matching_names\n",
    "    \n",
    "def extract_team(search_param):\n",
    "    matching_names = df['Team Name'][df['Team Name'].str.contains(search_param, case=False, na=False)].tolist()\n",
    "    distinct_values = list(set(matching_names))\n",
    "    if not distinct_values:\n",
    "        return []\n",
    "    else:\n",
    "        return distinct_values\n",
    "    \n",
    "def returnDay(year,month, day):\n",
    "    date = datetime.datetime(year, month, day) \n",
    "    day_of_year = date.timetuple().tm_yday + 4\n",
    "    return day_of_year\n",
    "\n",
    "def rosterPal(name,year,month,date):\n",
    "    name = extract_names(name)\n",
    "    if len(name) > 1:\n",
    "        print('There are multiple matches. Please select one and re run - ')\n",
    "        print(name)\n",
    "        return\n",
    "    elif len(name) == 1:\n",
    "        name = name[0]\n",
    "    else:\n",
    "        print(\"No Matches\")\n",
    "    dayNumber = returnDay(year,month, date) \n",
    "    result = df.isin([name])\n",
    "    positions = list(zip(*result.to_numpy().nonzero()))\n",
    "\n",
    "    if positions:\n",
    "        for position in positions:\n",
    "            row, col = position\n",
    "            row_number = row\n",
    "    else:\n",
    "        print(f\"Value '{name}' not found in the DataFrame\")\n",
    "    value = df.iloc[row_number, dayNumber]\n",
    "    if value == 'm':\n",
    "        value = 'Morning'\n",
    "    elif value == 'a':\n",
    "        value = 'Afternoon'\n",
    "    elif value == 'n':\n",
    "        value = 'Night'\n",
    "    elif value == 'x':\n",
    "        value = 'Shift Leave'\n",
    "    else:\n",
    "        value = value\n",
    "    print(f\"Name \\t{name}, \\nDay \\t{year}-{month}-{date}\\nShift \\t{value}\")"
   ]
  },
  {
   "cell_type": "code",
   "execution_count": 73,
   "metadata": {},
   "outputs": [
    {
     "name": "stdout",
     "output_type": "stream",
     "text": [
      "9\n",
      "Shift Lead \t Shyamalie Perera\n",
      "SRE \t Charitha Liyanage\n",
      "CBA \t Vishmini Mediwake\n",
      "SWE \t Imasha Sithmini\n",
      "CBA \t Thakshal Ekanayake\n",
      "SRE \t Udana Peiris\n",
      "SWE \t Kalana Nallaperuma\n",
      "CBA \t Sujeewa Gajanayake\n",
      "SE \t Pasan Pulasithi\n"
     ]
    }
   ],
   "source": [
    "def listMembers(year,month, date , verticle,shift):\n",
    "    team = extract_team(verticle)\n",
    "    dayNumber = returnDay(year,month, date) \n",
    "\n",
    "    filtered_df = df[(df.iloc[:, dayNumber] == shift) & (df.iloc[:, 0] == team[0])]\n",
    "\n",
    "    role = filtered_df['Job Role']\n",
    "    name = filtered_df['Name']\n",
    "    print(len(name))\n",
    "    for i in range (len(name)):\n",
    "        print(f\"{role.iloc[i]} \\t {name.iloc[i]}\")\n",
    "\n",
    "\n",
    "listMembers(2024,7,27,'Energy','n')"
   ]
  },
  {
   "cell_type": "code",
   "execution_count": 54,
   "metadata": {},
   "outputs": [],
   "source": [
    "# inputString = input('Enter the date and name to search as this comma separated format - Month,Date,Name \\n')\n",
    "# M,D,N = [part.strip() for part in inputString.split(',')]\n",
    "# try:\n",
    "#     rosterPal(N,2024,int(M),int(D))\n",
    "# except ValueError as ve:\n",
    "#     print(f\"ValueError: {ve}\")\n",
    "# except Exception as e:\n",
    "#     print(f\"An unexpected error occurred: {e}\")"
   ]
  }
 ],
 "metadata": {
  "kernelspec": {
   "display_name": "Python 3 (ipykernel)",
   "language": "python",
   "name": "python3"
  },
  "language_info": {
   "codemirror_mode": {
    "name": "ipython",
    "version": 3
   },
   "file_extension": ".py",
   "mimetype": "text/x-python",
   "name": "python",
   "nbconvert_exporter": "python",
   "pygments_lexer": "ipython3",
   "version": "3.9.5"
  }
 },
 "nbformat": 4,
 "nbformat_minor": 2
}
