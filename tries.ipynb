{
 "cells": [
  {
   "cell_type": "code",
   "execution_count": 164,
   "metadata": {},
   "outputs": [
    {
     "name": "stdout",
     "output_type": "stream",
     "text": [
      "Name \tInduwara Jayalath, \n",
      "Day \t2024-1010\n",
      "Shift \tMorning\n"
     ]
    }
   ],
   "source": [
    "import datetime\n",
    "import pandas as pd\n",
    "\n",
    "df = pd.read_csv('/Users/induwarajayalath/Desktop/GenixLabs/Projects/RosterPal/US-SO-Roster.csv')\n",
    "\n",
    "def extract_names(search_param):\n",
    "    matching_names = df['Name'][df['Name'].str.contains(search_param, case=False, na=False)].tolist()\n",
    "    if not matching_names:\n",
    "        return []\n",
    "    else:\n",
    "        return matching_names\n",
    "\n",
    "\n",
    "def returnDay(year,month, day):\n",
    "    date = datetime.datetime(year, month, day) \n",
    "    day_of_year = date.timetuple().tm_yday + 4\n",
    "    return day_of_year\n",
    "\n",
    "\n",
    "def rosterPal(name,year,month,date):\n",
    "    name = extract_names(name)\n",
    "    if len(name) > 1:\n",
    "        print('There are multiple matches. Please select one and re run - ')\n",
    "        print(name)\n",
    "        return\n",
    "    elif len(name) == 1:\n",
    "        name = name[0]\n",
    "    else:\n",
    "        print(\"No Matches\")\n",
    "    dayNumber = returnDay(year,month, date) \n",
    "    result = df.isin([name])\n",
    "    positions = list(zip(*result.to_numpy().nonzero()))\n",
    "\n",
    "    if positions:\n",
    "        for position in positions:\n",
    "            row, col = position\n",
    "            row_number = row\n",
    "    else:\n",
    "        print(f\"Value '{name}' not found in the DataFrame\")\n",
    "    value = df.iloc[row_number, dayNumber]\n",
    "    if value == 'm':\n",
    "        value = 'Morning'\n",
    "    elif value == 'a':\n",
    "        value = 'Afternoon'\n",
    "    elif value == 'n':\n",
    "        value = 'Night'\n",
    "    elif value == 'x':\n",
    "        value = 'Shift Leave'\n",
    "    else:\n",
    "        value = value\n",
    "    print(f\"Name \\t{name}, \\nDay \\t{year}-{month}-{date}\\nShift \\t{value}\")\n",
    "\n",
    "\n",
    "inputString = input('Enter the date and name to search as this comma separated format - Month,Date,Name \\n')\n",
    "M,D,N = [part.strip() for part in inputString.split(',')]\n",
    "try:\n",
    "    rosterPal(N,2024,int(M),int(D))\n",
    "except ValueError as ve:\n",
    "        print(f\"ValueError: {ve}\")\n",
    "except Exception as e:\n",
    "        print(f\"An unexpected error occurred: {e}\")\n",
    "\n"
   ]
  }
 ],
 "metadata": {
  "kernelspec": {
   "display_name": "Python 3 (ipykernel)",
   "language": "python",
   "name": "python3"
  },
  "language_info": {
   "codemirror_mode": {
    "name": "ipython",
    "version": 3
   },
   "file_extension": ".py",
   "mimetype": "text/x-python",
   "name": "python",
   "nbconvert_exporter": "python",
   "pygments_lexer": "ipython3",
   "version": "3.9.5"
  }
 },
 "nbformat": 4,
 "nbformat_minor": 2
}
